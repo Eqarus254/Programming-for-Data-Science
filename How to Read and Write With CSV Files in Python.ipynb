{
 "cells": [
  {
   "cell_type": "markdown",
   "id": "7b771d55",
   "metadata": {},
   "source": [
    "# READ AND WRITE CSV FILES"
   ]
  },
  {
   "cell_type": "code",
   "execution_count": 1,
   "id": "c40c81a7",
   "metadata": {},
   "outputs": [
    {
     "name": "stdout",
     "output_type": "stream",
     "text": [
      "3.11.5\n"
     ]
    }
   ],
   "source": [
    "from platform import python_version\n",
    "\n",
    "print(python_version())"
   ]
  },
  {
   "cell_type": "code",
   "execution_count": 2,
   "id": "c4a6c319",
   "metadata": {},
   "outputs": [
    {
     "data": {
      "text/plain": [
       "_io.TextIOWrapper"
      ]
     },
     "execution_count": 2,
     "metadata": {},
     "output_type": "execute_result"
    }
   ],
   "source": [
    "import csv\n",
    "file = open('Salary_Data.csv')\n",
    "type(file)\n"
   ]
  },
  {
   "cell_type": "code",
   "execution_count": 3,
   "id": "8a3ae3b3",
   "metadata": {},
   "outputs": [
    {
     "data": {
      "text/plain": [
       "['YearsExperience', 'Salary']"
      ]
     },
     "execution_count": 3,
     "metadata": {},
     "output_type": "execute_result"
    }
   ],
   "source": [
    "csvreader = csv.reader(file)\n",
    "header = []\n",
    "header = next(csvreader)\n",
    "header"
   ]
  },
  {
   "cell_type": "code",
   "execution_count": 5,
   "id": "2e02278f",
   "metadata": {},
   "outputs": [
    {
     "data": {
      "text/plain": [
       "[['1.1', '39343.00'],\n",
       " ['1.3', '46205.00'],\n",
       " ['1.5', '37731.00'],\n",
       " ['2.0', '43525.00'],\n",
       " ['2.2', '39891.00'],\n",
       " ['2.9', '56642.00'],\n",
       " ['3.0', '60150.00'],\n",
       " ['3.2', '54445.00'],\n",
       " ['3.2', '64445.00'],\n",
       " ['3.7', '57189.00'],\n",
       " ['3.9', '63218.00'],\n",
       " ['4.0', '55794.00'],\n",
       " ['4.0', '56957.00'],\n",
       " ['4.1', '57081.00'],\n",
       " ['4.5', '61111.00'],\n",
       " ['4.9', '67938.00'],\n",
       " ['5.1', '66029.00'],\n",
       " ['5.3', '83088.00'],\n",
       " ['5.9', '81363.00'],\n",
       " ['6.0', '93940.00'],\n",
       " ['6.8', '91738.00'],\n",
       " ['7.1', '98273.00'],\n",
       " ['7.9', '101302.00'],\n",
       " ['8.2', '113812.00'],\n",
       " ['8.7', '109431.00'],\n",
       " ['9.0', '105582.00'],\n",
       " ['9.5', '116969.00'],\n",
       " ['9.6', '112635.00'],\n",
       " ['10.3', '122391.00'],\n",
       " ['10.5', '121872.00']]"
      ]
     },
     "execution_count": 5,
     "metadata": {},
     "output_type": "execute_result"
    }
   ],
   "source": [
    "rows = []\n",
    "for row in csvreader:\n",
    " rows.append(row)\n",
    "rows"
   ]
  },
  {
   "cell_type": "code",
   "execution_count": 7,
   "id": "ba0cf6f9",
   "metadata": {},
   "outputs": [],
   "source": [
    "file.close()\n"
   ]
  },
  {
   "cell_type": "code",
   "execution_count": 9,
   "id": "ffee5508",
   "metadata": {},
   "outputs": [
    {
     "name": "stdout",
     "output_type": "stream",
     "text": [
      "['YearsExperience', 'Salary']\n",
      "[['1.1', '39343.00'], ['1.3', '46205.00'], ['1.5', '37731.00'], ['2.0', '43525.00'], ['2.2', '39891.00'], ['2.9', '56642.00'], ['3.0', '60150.00'], ['3.2', '54445.00'], ['3.2', '64445.00'], ['3.7', '57189.00'], ['3.9', '63218.00'], ['4.0', '55794.00'], ['4.0', '56957.00'], ['4.1', '57081.00'], ['4.5', '61111.00'], ['4.9', '67938.00'], ['5.1', '66029.00'], ['5.3', '83088.00'], ['5.9', '81363.00'], ['6.0', '93940.00'], ['6.8', '91738.00'], ['7.1', '98273.00'], ['7.9', '101302.00'], ['8.2', '113812.00'], ['8.7', '109431.00'], ['9.0', '105582.00'], ['9.5', '116969.00'], ['9.6', '112635.00'], ['10.3', '122391.00'], ['10.5', '121872.00']]\n"
     ]
    }
   ],
   "source": [
    "import csv\n",
    "rows = []\n",
    "with open(\"Salary_Data.csv\", 'r') as file:\n",
    " csvreader = csv.reader(file)\n",
    " header = next(csvreader)\n",
    " for row in csvreader:\n",
    "  rows.append(row)\n",
    "print(header)\n",
    "print(rows)\n"
   ]
  },
  {
   "cell_type": "code",
   "execution_count": 10,
   "id": "f80c0c15",
   "metadata": {},
   "outputs": [
    {
     "name": "stdout",
     "output_type": "stream",
     "text": [
      "['YearsExperience,Salary\\n']\n",
      "['1.1,39343.00\\n', '1.3,46205.00\\n', '1.5,37731.00\\n', '2.0,43525.00\\n', '2.2,39891.00\\n', '2.9,56642.00\\n', '3.0,60150.00\\n', '3.2,54445.00\\n', '3.2,64445.00\\n', '3.7,57189.00\\n', '3.9,63218.00\\n', '4.0,55794.00\\n', '4.0,56957.00\\n', '4.1,57081.00\\n', '4.5,61111.00\\n', '4.9,67938.00\\n', '5.1,66029.00\\n', '5.3,83088.00\\n', '5.9,81363.00\\n', '6.0,93940.00\\n', '6.8,91738.00\\n', '7.1,98273.00\\n', '7.9,101302.00\\n', '8.2,113812.00\\n', '8.7,109431.00\\n', '9.0,105582.00\\n', '9.5,116969.00\\n', '9.6,112635.00\\n', '10.3,122391.00\\n', '10.5,121872.00']\n"
     ]
    }
   ],
   "source": [
    "with open('Salary_Data.csv') as file:\n",
    " content = file.readlines()\n",
    "header = content[:1]\n",
    "rows = content[1:]\n",
    "print(header)\n",
    "print(rows)"
   ]
  },
  {
   "cell_type": "code",
   "execution_count": 15,
   "id": "22a92b2e",
   "metadata": {},
   "outputs": [
    {
     "name": "stdout",
     "output_type": "stream",
     "text": [
      "    YearsExperience    Salary\n",
      "0               1.1   39343.0\n",
      "1               1.3   46205.0\n",
      "2               1.5   37731.0\n",
      "3               2.0   43525.0\n",
      "4               2.2   39891.0\n",
      "5               2.9   56642.0\n",
      "6               3.0   60150.0\n",
      "7               3.2   54445.0\n",
      "8               3.2   64445.0\n",
      "9               3.7   57189.0\n",
      "10              3.9   63218.0\n",
      "11              4.0   55794.0\n",
      "12              4.0   56957.0\n",
      "13              4.1   57081.0\n",
      "14              4.5   61111.0\n",
      "15              4.9   67938.0\n",
      "16              5.1   66029.0\n",
      "17              5.3   83088.0\n",
      "18              5.9   81363.0\n",
      "19              6.0   93940.0\n",
      "20              6.8   91738.0\n",
      "21              7.1   98273.0\n",
      "22              7.9  101302.0\n",
      "23              8.2  113812.0\n",
      "24              8.7  109431.0\n",
      "25              9.0  105582.0\n",
      "26              9.5  116969.0\n",
      "27              9.6  112635.0\n",
      "28             10.3  122391.0\n",
      "29             10.5  121872.0\n"
     ]
    }
   ],
   "source": [
    "import pandas as pd\n",
    "\n",
    "filename = \"Salary_Data.csv\"\n",
    "data = pd.read_csv(filename, delimiter=',')\n",
    "print(data)\n"
   ]
  },
  {
   "cell_type": "code",
   "execution_count": 16,
   "id": "236854c4",
   "metadata": {},
   "outputs": [
    {
     "data": {
      "text/plain": [
       "Index(['YearsExperience', 'Salary'], dtype='object')"
      ]
     },
     "execution_count": 16,
     "metadata": {},
     "output_type": "execute_result"
    }
   ],
   "source": [
    "data.columns\n"
   ]
  },
  {
   "cell_type": "code",
   "execution_count": 18,
   "id": "8b2b3506",
   "metadata": {},
   "outputs": [
    {
     "data": {
      "text/plain": [
       "0      39343.0\n",
       "1      46205.0\n",
       "2      37731.0\n",
       "3      43525.0\n",
       "4      39891.0\n",
       "5      56642.0\n",
       "6      60150.0\n",
       "7      54445.0\n",
       "8      64445.0\n",
       "9      57189.0\n",
       "10     63218.0\n",
       "11     55794.0\n",
       "12     56957.0\n",
       "13     57081.0\n",
       "14     61111.0\n",
       "15     67938.0\n",
       "16     66029.0\n",
       "17     83088.0\n",
       "18     81363.0\n",
       "19     93940.0\n",
       "20     91738.0\n",
       "21     98273.0\n",
       "22    101302.0\n",
       "23    113812.0\n",
       "24    109431.0\n",
       "25    105582.0\n",
       "26    116969.0\n",
       "27    112635.0\n",
       "28    122391.0\n",
       "29    121872.0\n",
       "Name: Salary, dtype: float64"
      ]
     },
     "execution_count": 18,
     "metadata": {},
     "output_type": "execute_result"
    }
   ],
   "source": [
    "data.Salary\n"
   ]
  },
  {
   "cell_type": "code",
   "execution_count": 19,
   "id": "c31de27e",
   "metadata": {},
   "outputs": [
    {
     "name": "stdout",
     "output_type": "stream",
     "text": [
      "['10.5', '121872.00']\n"
     ]
    }
   ],
   "source": [
    "import csv\n",
    "with open('Salary_Data.csv', 'r') as csvfile:\n",
    "    reader = csv.DictReader(csvfile)\n",
    "    print(row)\n"
   ]
  },
  {
   "cell_type": "code",
   "execution_count": 20,
   "id": "334da350",
   "metadata": {},
   "outputs": [],
   "source": [
    "import csv\n",
    "filename = 'Students_Data.csv'\n",
    "with open(filename, 'w', newline=\"\") as file:\n",
    " csvwriter = csv.writer(file) # 2. create a csvwriter object\n",
    " csvwriter.writerow(header) # 4. write the header\n",
    " csvwriter.writerows(data) # 5. write the rest of the data\n"
   ]
  },
  {
   "cell_type": "code",
   "execution_count": 24,
   "id": "3a031140",
   "metadata": {},
   "outputs": [],
   "source": [
    "header = ['Name', 'M1 Score', 'M2 Score']\n",
    "data = [['Alex', 62, 80], ['Brad', 45, 56], ['Joey', 85, 98]]\n",
    "filename = 'Student_scores.csv'\n",
    "with open(filename, 'w') as file:\n",
    " for header in header:\n",
    "  file.write(str(header)+', ')\n",
    " file.write('n')\n",
    " for row in data:\n",
    "  for x in row:\n",
    "   file.write(str(x)+', ')\n",
    "  file.write('n')\n"
   ]
  },
  {
   "cell_type": "code",
   "execution_count": 25,
   "id": "a169b6c4",
   "metadata": {},
   "outputs": [],
   "source": [
    "import pandas as pd\n",
    "header = ['Name', 'M1 Score', 'M2 Score']\n",
    "data = [['Alex', 62, 80], ['Brad', 45, 56], ['Joey', 85, 98]]\n",
    "data = pd.DataFrame(data, columns=header)\n"
   ]
  },
  {
   "cell_type": "code",
   "execution_count": 27,
   "id": "aec30938",
   "metadata": {},
   "outputs": [],
   "source": [
    "import csv\n",
    "with open('Students_Data.csv', 'w', newline='') as csvfile:\n",
    "    data = [{'Name': 'Alex', 'M1 Score': 62, 'M2 Score': 80},\n",
    " {'Name': 'Brad', 'M1 Score': 45, 'M2 Score': 56},\n",
    " {'Name': 'Joey', 'M1 Score': 85, 'M2 Score': 98}]\n"
   ]
  },
  {
   "cell_type": "code",
   "execution_count": null,
   "id": "32428616",
   "metadata": {},
   "outputs": [],
   "source": []
  }
 ],
 "metadata": {
  "kernelspec": {
   "display_name": "Python 3 (ipykernel)",
   "language": "python",
   "name": "python3"
  },
  "language_info": {
   "codemirror_mode": {
    "name": "ipython",
    "version": 3
   },
   "file_extension": ".py",
   "mimetype": "text/x-python",
   "name": "python",
   "nbconvert_exporter": "python",
   "pygments_lexer": "ipython3",
   "version": "3.11.5"
  }
 },
 "nbformat": 4,
 "nbformat_minor": 5
}
