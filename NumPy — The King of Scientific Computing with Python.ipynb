{
 "cells": [
  {
   "cell_type": "markdown",
   "id": "426eeec2",
   "metadata": {},
   "source": [
    "# NUMPY"
   ]
  },
  {
   "cell_type": "code",
   "execution_count": 3,
   "id": "aa5b86aa",
   "metadata": {},
   "outputs": [],
   "source": [
    "#heterogenous 1D array\n",
    "arr = [1,2,\"a\",3,\"b\"]\n"
   ]
  },
  {
   "cell_type": "code",
   "execution_count": 8,
   "id": "cd02e710",
   "metadata": {},
   "outputs": [
    {
     "data": {
      "text/plain": [
       "array([ 4, 10, 18])"
      ]
     },
     "execution_count": 8,
     "metadata": {},
     "output_type": "execute_result"
    }
   ],
   "source": [
    "import numpy as np\n",
    "x = np.array([1,2,3])\n",
    "y = np.array([4,5,6])\n",
    "x*y\n"
   ]
  },
  {
   "cell_type": "code",
   "execution_count": 9,
   "id": "c8d4db45",
   "metadata": {},
   "outputs": [
    {
     "data": {
      "text/plain": [
       "[1, 2, 3]"
      ]
     },
     "execution_count": 9,
     "metadata": {},
     "output_type": "execute_result"
    }
   ],
   "source": [
    "import numpy as np\n",
    "#define\n",
    "just_a_list = [1,2,3]\n",
    "#show\n",
    "just_a_list"
   ]
  },
  {
   "cell_type": "code",
   "execution_count": 10,
   "id": "36b7f127",
   "metadata": {},
   "outputs": [
    {
     "data": {
      "text/plain": [
       "array([1, 2, 3])"
      ]
     },
     "execution_count": 10,
     "metadata": {},
     "output_type": "execute_result"
    }
   ],
   "source": [
    "import numpy as np\n",
    "just_a_list = [1,2,3]\n",
    "np.array(just_a_list)"
   ]
  },
  {
   "cell_type": "code",
   "execution_count": 11,
   "id": "b1150d16",
   "metadata": {},
   "outputs": [
    {
     "data": {
      "text/plain": [
       "[[1, 2, 3], [4, 5, 6], [7, 8, 9]]"
      ]
     },
     "execution_count": 11,
     "metadata": {},
     "output_type": "execute_result"
    }
   ],
   "source": [
    "import numpy as np\n",
    "#define\n",
    "just_a_matrix = [[1,2,3],[4,5,6],[7,8,9]]\n",
    "#show\n",
    "just_a_matrix"
   ]
  },
  {
   "cell_type": "code",
   "execution_count": 12,
   "id": "ab2106f2",
   "metadata": {},
   "outputs": [
    {
     "data": {
      "text/plain": [
       "array([[1, 2, 3],\n",
       "       [4, 5, 6],\n",
       "       [7, 8, 9]])"
      ]
     },
     "execution_count": 12,
     "metadata": {},
     "output_type": "execute_result"
    }
   ],
   "source": [
    "import numpy as np\n",
    "#define\n",
    "just_a_matrix = [[1,2,3],[4,5,6],[7,8,9]]\n",
    "#show\n",
    "np.array(just_a_matrix)"
   ]
  },
  {
   "cell_type": "code",
   "execution_count": 13,
   "id": "44c58051",
   "metadata": {},
   "outputs": [
    {
     "data": {
      "text/plain": [
       "array([ 0,  1,  2,  3,  4,  5,  6,  7,  8,  9, 10, 11, 12, 13, 14, 15, 16,\n",
       "       17, 18, 19])"
      ]
     },
     "execution_count": 13,
     "metadata": {},
     "output_type": "execute_result"
    }
   ],
   "source": [
    "import numpy as np\n",
    "np.arange(0,20)\n"
   ]
  },
  {
   "cell_type": "code",
   "execution_count": 14,
   "id": "932d1bf1",
   "metadata": {},
   "outputs": [
    {
     "data": {
      "text/plain": [
       "array([0, 2, 4, 6, 8])"
      ]
     },
     "execution_count": 14,
     "metadata": {},
     "output_type": "execute_result"
    }
   ],
   "source": [
    "import numpy as np\n",
    "#step size of 2\n",
    "np.arange(0,10,2)"
   ]
  },
  {
   "cell_type": "code",
   "execution_count": 15,
   "id": "0d490324",
   "metadata": {},
   "outputs": [
    {
     "data": {
      "text/plain": [
       "array([0., 0., 0., 0.])"
      ]
     },
     "execution_count": 15,
     "metadata": {},
     "output_type": "execute_result"
    }
   ],
   "source": [
    "import numpy as np\n",
    "np.zeros(4)"
   ]
  },
  {
   "cell_type": "code",
   "execution_count": 16,
   "id": "3607221d",
   "metadata": {},
   "outputs": [
    {
     "data": {
      "text/plain": [
       "array([[0., 0., 0.],\n",
       "       [0., 0., 0.],\n",
       "       [0., 0., 0.]])"
      ]
     },
     "execution_count": 16,
     "metadata": {},
     "output_type": "execute_result"
    }
   ],
   "source": [
    "import numpy as np\n",
    "np.zeros((3,3))"
   ]
  },
  {
   "cell_type": "code",
   "execution_count": 17,
   "id": "3c4acb50",
   "metadata": {},
   "outputs": [
    {
     "data": {
      "text/plain": [
       "array([1., 1., 1., 1.])"
      ]
     },
     "execution_count": 17,
     "metadata": {},
     "output_type": "execute_result"
    }
   ],
   "source": [
    "import numpy as np\n",
    "np.ones(4)\n"
   ]
  },
  {
   "cell_type": "code",
   "execution_count": 18,
   "id": "4dbc9f14",
   "metadata": {},
   "outputs": [
    {
     "data": {
      "text/plain": [
       "array([[1., 1., 1.],\n",
       "       [1., 1., 1.],\n",
       "       [1., 1., 1.]])"
      ]
     },
     "execution_count": 18,
     "metadata": {},
     "output_type": "execute_result"
    }
   ],
   "source": [
    "import numpy as np\n",
    "np.ones((3,3))"
   ]
  },
  {
   "cell_type": "code",
   "execution_count": 20,
   "id": "a4b14369",
   "metadata": {},
   "outputs": [
    {
     "data": {
      "text/plain": [
       "array([ 0.,  5., 10.])"
      ]
     },
     "execution_count": 20,
     "metadata": {},
     "output_type": "execute_result"
    }
   ],
   "source": [
    "import numpy as np\n",
    "#generates three numbers\n",
    "#between range 0 to 10\n",
    "np.linspace(0,10,3)"
   ]
  },
  {
   "cell_type": "code",
   "execution_count": 21,
   "id": "380857d1",
   "metadata": {},
   "outputs": [
    {
     "data": {
      "text/plain": [
       "array([ 0.        ,  0.52631579,  1.05263158,  1.57894737,  2.10526316,\n",
       "        2.63157895,  3.15789474,  3.68421053,  4.21052632,  4.73684211,\n",
       "        5.26315789,  5.78947368,  6.31578947,  6.84210526,  7.36842105,\n",
       "        7.89473684,  8.42105263,  8.94736842,  9.47368421, 10.        ])"
      ]
     },
     "execution_count": 21,
     "metadata": {},
     "output_type": "execute_result"
    }
   ],
   "source": [
    "import numpy as np\n",
    "np.linspace(0,10,20)"
   ]
  },
  {
   "cell_type": "code",
   "execution_count": 22,
   "id": "38e252fc",
   "metadata": {},
   "outputs": [
    {
     "data": {
      "text/plain": [
       "array([[1., 0., 0.],\n",
       "       [0., 1., 0.],\n",
       "       [0., 0., 1.]])"
      ]
     },
     "execution_count": 22,
     "metadata": {},
     "output_type": "execute_result"
    }
   ],
   "source": [
    "import numpy as np\n",
    "np.eye(3)"
   ]
  },
  {
   "cell_type": "code",
   "execution_count": 23,
   "id": "7914a2e8",
   "metadata": {},
   "outputs": [
    {
     "data": {
      "text/plain": [
       "array([0.75261764, 0.40355455])"
      ]
     },
     "execution_count": 23,
     "metadata": {},
     "output_type": "execute_result"
    }
   ],
   "source": [
    "import numpy as np\n",
    "np.random.rand(2)\n"
   ]
  },
  {
   "cell_type": "code",
   "execution_count": 24,
   "id": "3b006084",
   "metadata": {},
   "outputs": [
    {
     "data": {
      "text/plain": [
       "array([[0.47391322, 0.96980881, 0.03119947],\n",
       "       [0.70224136, 0.46984861, 0.13303997],\n",
       "       [0.52404209, 0.0291802 , 0.57177518]])"
      ]
     },
     "execution_count": 24,
     "metadata": {},
     "output_type": "execute_result"
    }
   ],
   "source": [
    "import numpy as np\n",
    "np.random.rand(3,3)\n"
   ]
  },
  {
   "cell_type": "code",
   "execution_count": 25,
   "id": "f6c20308",
   "metadata": {},
   "outputs": [
    {
     "data": {
      "text/plain": [
       "array([0.03599606, 1.42227488])"
      ]
     },
     "execution_count": 25,
     "metadata": {},
     "output_type": "execute_result"
    }
   ],
   "source": [
    "import numpy as np\n",
    "np.random.randn(2)"
   ]
  },
  {
   "cell_type": "code",
   "execution_count": 26,
   "id": "a535c753",
   "metadata": {},
   "outputs": [
    {
     "data": {
      "text/plain": [
       "array([[-0.23232824,  1.52396446,  1.27804697,  1.54168661],\n",
       "       [ 0.18651272, -1.01737444,  0.60560337,  0.18635974],\n",
       "       [-0.34886112, -1.64104164, -0.33407226,  0.12429816],\n",
       "       [ 0.09587071,  0.82793611, -0.13187869, -1.70646665]])"
      ]
     },
     "execution_count": 26,
     "metadata": {},
     "output_type": "execute_result"
    }
   ],
   "source": [
    "import numpy as np\n",
    "np.random.randn(4,4)"
   ]
  },
  {
   "cell_type": "code",
   "execution_count": 27,
   "id": "68331265",
   "metadata": {},
   "outputs": [
    {
     "data": {
      "text/plain": [
       "57"
      ]
     },
     "execution_count": 27,
     "metadata": {},
     "output_type": "execute_result"
    }
   ],
   "source": [
    "import numpy as np\n",
    "np.random.randint(1,100)\n"
   ]
  },
  {
   "cell_type": "code",
   "execution_count": 28,
   "id": "0fe828da",
   "metadata": {},
   "outputs": [
    {
     "data": {
      "text/plain": [
       "array([90,  5,  2, 38, 45, 79, 57, 73,  1, 84])"
      ]
     },
     "execution_count": 28,
     "metadata": {},
     "output_type": "execute_result"
    }
   ],
   "source": [
    "import numpy as np\n",
    "#generates 10 random \n",
    "#integers between 1 to 100\n",
    "np.random.randint(1,100,10)"
   ]
  },
  {
   "cell_type": "code",
   "execution_count": 29,
   "id": "70248b24",
   "metadata": {},
   "outputs": [
    {
     "data": {
      "text/plain": [
       "array([ 0,  1,  2,  3,  4,  5,  6,  7,  8,  9, 10, 11, 12, 13, 14, 15])"
      ]
     },
     "execution_count": 29,
     "metadata": {},
     "output_type": "execute_result"
    }
   ],
   "source": [
    "import numpy as np\n",
    "#define\n",
    "arr = np.arange(16)\n",
    "#show\n",
    "arr"
   ]
  },
  {
   "cell_type": "code",
   "execution_count": 30,
   "id": "d65b8dcf",
   "metadata": {},
   "outputs": [
    {
     "data": {
      "text/plain": [
       "array([[ 0,  1,  2,  3],\n",
       "       [ 4,  5,  6,  7],\n",
       "       [ 8,  9, 10, 11],\n",
       "       [12, 13, 14, 15]])"
      ]
     },
     "execution_count": 30,
     "metadata": {},
     "output_type": "execute_result"
    }
   ],
   "source": [
    "import numpy as np\n",
    "#define\n",
    "arr = np.arange(16)\n",
    "#show\n",
    "arr\n",
    "arr.reshape(4,4)"
   ]
  },
  {
   "cell_type": "code",
   "execution_count": 31,
   "id": "60a2cd88",
   "metadata": {},
   "outputs": [
    {
     "data": {
      "text/plain": [
       "array([19, 10, 11,  7, 21, 35, 26,  1, 10, 24])"
      ]
     },
     "execution_count": 31,
     "metadata": {},
     "output_type": "execute_result"
    }
   ],
   "source": [
    "import numpy as np\n",
    "#define\n",
    "random_arr = np.random.randint(0,50,10)\n",
    "#show\n",
    "random_arr"
   ]
  },
  {
   "cell_type": "code",
   "execution_count": 32,
   "id": "76d2d096",
   "metadata": {},
   "outputs": [
    {
     "data": {
      "text/plain": [
       "45"
      ]
     },
     "execution_count": 32,
     "metadata": {},
     "output_type": "execute_result"
    }
   ],
   "source": [
    "import numpy as np\n",
    "#define\n",
    "random_arr = np.random.randint(0,50,10)\n",
    "#show\n",
    "random_arr\n",
    "random_arr.max()\n"
   ]
  },
  {
   "cell_type": "code",
   "execution_count": 33,
   "id": "e77e3eef",
   "metadata": {},
   "outputs": [
    {
     "data": {
      "text/plain": [
       "2"
      ]
     },
     "execution_count": 33,
     "metadata": {},
     "output_type": "execute_result"
    }
   ],
   "source": [
    "import numpy as np\n",
    "#define\n",
    "random_arr = np.random.randint(0,50,10)\n",
    "#show\n",
    "random_arr\n",
    "random_arr.max()\n",
    "random_arr.argmax()"
   ]
  },
  {
   "cell_type": "code",
   "execution_count": 34,
   "id": "1a1d1340",
   "metadata": {},
   "outputs": [
    {
     "data": {
      "text/plain": [
       "3"
      ]
     },
     "execution_count": 34,
     "metadata": {},
     "output_type": "execute_result"
    }
   ],
   "source": [
    "import numpy as np\n",
    "#define\n",
    "random_arr = np.random.randint(0,50,10)\n",
    "#show\n",
    "random_arr\n",
    "random_arr.max()\n",
    "random_arr.argmax()\n",
    "random_arr.min()\n"
   ]
  },
  {
   "cell_type": "code",
   "execution_count": 35,
   "id": "be750170",
   "metadata": {},
   "outputs": [
    {
     "data": {
      "text/plain": [
       "2"
      ]
     },
     "execution_count": 35,
     "metadata": {},
     "output_type": "execute_result"
    }
   ],
   "source": [
    "import numpy as np\n",
    "#define\n",
    "random_arr = np.random.randint(0,50,10)\n",
    "#show\n",
    "random_arr\n",
    "random_arr.max()\n",
    "random_arr.argmax()\n",
    "random_arr.min()\n",
    "random_arr.argmin()\n"
   ]
  },
  {
   "cell_type": "code",
   "execution_count": 36,
   "id": "6238b92c",
   "metadata": {},
   "outputs": [
    {
     "data": {
      "text/plain": [
       "(16,)"
      ]
     },
     "execution_count": 36,
     "metadata": {},
     "output_type": "execute_result"
    }
   ],
   "source": [
    "import numpy as np\n",
    "#define\n",
    "random_arr = np.random.randint(0,50,10)\n",
    "#show\n",
    "random_arr\n",
    "arr.shape"
   ]
  },
  {
   "cell_type": "code",
   "execution_count": 37,
   "id": "34f07fe7",
   "metadata": {},
   "outputs": [
    {
     "data": {
      "text/plain": [
       "array([[ 0,  1,  2,  3,  4,  5,  6,  7,  8,  9, 10, 11, 12, 13, 14, 15]])"
      ]
     },
     "execution_count": 37,
     "metadata": {},
     "output_type": "execute_result"
    }
   ],
   "source": [
    "arr.reshape(1,16)\n"
   ]
  },
  {
   "cell_type": "code",
   "execution_count": 38,
   "id": "9beb94e5",
   "metadata": {},
   "outputs": [
    {
     "data": {
      "text/plain": [
       "(1, 16)"
      ]
     },
     "execution_count": 38,
     "metadata": {},
     "output_type": "execute_result"
    }
   ],
   "source": [
    "arr.reshape(1,16).shape\n"
   ]
  },
  {
   "cell_type": "code",
   "execution_count": 39,
   "id": "c6a2afa0",
   "metadata": {},
   "outputs": [
    {
     "data": {
      "text/plain": [
       "array([[ 0],\n",
       "       [ 1],\n",
       "       [ 2],\n",
       "       [ 3],\n",
       "       [ 4],\n",
       "       [ 5],\n",
       "       [ 6],\n",
       "       [ 7],\n",
       "       [ 8],\n",
       "       [ 9],\n",
       "       [10],\n",
       "       [11],\n",
       "       [12],\n",
       "       [13],\n",
       "       [14],\n",
       "       [15]])"
      ]
     },
     "execution_count": 39,
     "metadata": {},
     "output_type": "execute_result"
    }
   ],
   "source": [
    "arr.reshape(16,1)\n"
   ]
  },
  {
   "cell_type": "code",
   "execution_count": 40,
   "id": "8814f0bb",
   "metadata": {},
   "outputs": [
    {
     "data": {
      "text/plain": [
       "(16, 1)"
      ]
     },
     "execution_count": 40,
     "metadata": {},
     "output_type": "execute_result"
    }
   ],
   "source": [
    "arr.reshape(16,1).shape\n"
   ]
  },
  {
   "cell_type": "code",
   "execution_count": 41,
   "id": "7cde1a1e",
   "metadata": {},
   "outputs": [
    {
     "data": {
      "text/plain": [
       "dtype('int32')"
      ]
     },
     "execution_count": 41,
     "metadata": {},
     "output_type": "execute_result"
    }
   ],
   "source": [
    "arr.dtype\n"
   ]
  },
  {
   "cell_type": "code",
   "execution_count": 42,
   "id": "4f29c9ed",
   "metadata": {},
   "outputs": [
    {
     "data": {
      "text/plain": [
       "5"
      ]
     },
     "execution_count": 42,
     "metadata": {},
     "output_type": "execute_result"
    }
   ],
   "source": [
    "#Get a value \n",
    "#at an index\n",
    "arr[5]\n"
   ]
  },
  {
   "cell_type": "code",
   "execution_count": 43,
   "id": "13c69267",
   "metadata": {},
   "outputs": [
    {
     "data": {
      "text/plain": [
       "array([1, 2, 3, 4])"
      ]
     },
     "execution_count": 43,
     "metadata": {},
     "output_type": "execute_result"
    }
   ],
   "source": [
    "#Get values \n",
    "#in a range\n",
    "arr[1:5]"
   ]
  },
  {
   "cell_type": "code",
   "execution_count": 44,
   "id": "d5f75535",
   "metadata": {},
   "outputs": [
    {
     "data": {
      "text/plain": [
       "array([100, 100, 100, 100, 100,   5,   6,   7,   8,   9,  10,  11,  12,\n",
       "        13,  14,  15])"
      ]
     },
     "execution_count": 44,
     "metadata": {},
     "output_type": "execute_result"
    }
   ],
   "source": [
    "#Setting a value with\n",
    "#index range\n",
    "arr[0:5]=100#Show\n",
    "arr"
   ]
  },
  {
   "cell_type": "code",
   "execution_count": 45,
   "id": "e0f7436b",
   "metadata": {},
   "outputs": [
    {
     "data": {
      "text/plain": [
       "array([ 0,  1,  2,  3,  4,  5,  6,  7,  8,  9, 10])"
      ]
     },
     "execution_count": 45,
     "metadata": {},
     "output_type": "execute_result"
    }
   ],
   "source": [
    "#Reset array, we'll \n",
    "#see the reason behind it soon\n",
    "arr = np.arange(0,11)#Show\n",
    "arr"
   ]
  },
  {
   "cell_type": "code",
   "execution_count": 46,
   "id": "b84308e7",
   "metadata": {},
   "outputs": [
    {
     "data": {
      "text/plain": [
       "array([0, 1, 2, 3, 4, 5])"
      ]
     },
     "execution_count": 46,
     "metadata": {},
     "output_type": "execute_result"
    }
   ],
   "source": [
    "slice_of_arr = arr[0:6]#Show slice\n",
    "slice_of_arr"
   ]
  },
  {
   "cell_type": "code",
   "execution_count": 47,
   "id": "327b6380",
   "metadata": {},
   "outputs": [
    {
     "data": {
      "text/plain": [
       "array([99, 99, 99, 99, 99, 99])"
      ]
     },
     "execution_count": 47,
     "metadata": {},
     "output_type": "execute_result"
    }
   ],
   "source": [
    "#Change Slice\n",
    "slice_of_arr[:]=99#Show Slice again\n",
    "slice_of_arr"
   ]
  },
  {
   "cell_type": "code",
   "execution_count": 48,
   "id": "3fc3f182",
   "metadata": {},
   "outputs": [
    {
     "data": {
      "text/plain": [
       "array([99, 99, 99, 99, 99, 99,  6,  7,  8,  9, 10])"
      ]
     },
     "execution_count": 48,
     "metadata": {},
     "output_type": "execute_result"
    }
   ],
   "source": [
    "arr"
   ]
  },
  {
   "cell_type": "code",
   "execution_count": 51,
   "id": "8c788cfc",
   "metadata": {},
   "outputs": [
    {
     "data": {
      "text/plain": [
       "array([[1, 2, 3],\n",
       "       [4, 5, 6]])"
      ]
     },
     "execution_count": 51,
     "metadata": {},
     "output_type": "execute_result"
    }
   ],
   "source": [
    "a = [[1,2,3],[4,5,6]]#Converting to \n",
    "#numpy 2d array\n",
    "np_a = np.array(a)#show\n",
    "np_a\n"
   ]
  },
  {
   "cell_type": "code",
   "execution_count": 52,
   "id": "8d010d70",
   "metadata": {},
   "outputs": [
    {
     "data": {
      "text/plain": [
       "(2, 3)"
      ]
     },
     "execution_count": 52,
     "metadata": {},
     "output_type": "execute_result"
    }
   ],
   "source": [
    "#2 rows, 3 columns\n",
    "np_a.shape"
   ]
  },
  {
   "cell_type": "code",
   "execution_count": 53,
   "id": "321d00cd",
   "metadata": {},
   "outputs": [
    {
     "data": {
      "text/plain": [
       "array([100, 200, 300])"
      ]
     },
     "execution_count": 53,
     "metadata": {},
     "output_type": "execute_result"
    }
   ],
   "source": [
    "b = [100,200,300]#converting to \n",
    "#numpy array\n",
    "np_b = np.array(b)#show\n",
    "np_b"
   ]
  },
  {
   "cell_type": "code",
   "execution_count": 54,
   "id": "16245473",
   "metadata": {},
   "outputs": [
    {
     "data": {
      "text/plain": [
       "(3,)"
      ]
     },
     "execution_count": 54,
     "metadata": {},
     "output_type": "execute_result"
    }
   ],
   "source": [
    "np_b.shape"
   ]
  },
  {
   "cell_type": "code",
   "execution_count": 55,
   "id": "b8da8160",
   "metadata": {},
   "outputs": [
    {
     "data": {
      "text/plain": [
       "array([[100, 200, 300]])"
      ]
     },
     "execution_count": 55,
     "metadata": {},
     "output_type": "execute_result"
    }
   ],
   "source": [
    "np_b_reshaped = np_b.reshape(1,3)#show\n",
    "np_b_reshaped"
   ]
  },
  {
   "cell_type": "code",
   "execution_count": 56,
   "id": "f8a59006",
   "metadata": {},
   "outputs": [
    {
     "data": {
      "text/plain": [
       "(1, 3)"
      ]
     },
     "execution_count": 56,
     "metadata": {},
     "output_type": "execute_result"
    }
   ],
   "source": [
    "#1 row, 3 columns\n",
    "np_b_reshaped.shape"
   ]
  },
  {
   "cell_type": "code",
   "execution_count": 57,
   "id": "3f996d74",
   "metadata": {},
   "outputs": [
    {
     "data": {
      "text/plain": [
       "array([[101, 202, 303],\n",
       "       [104, 205, 306]])"
      ]
     },
     "execution_count": 57,
     "metadata": {},
     "output_type": "execute_result"
    }
   ],
   "source": [
    "np_a + np_b_reshaped"
   ]
  },
  {
   "cell_type": "code",
   "execution_count": 58,
   "id": "3fafb9bf",
   "metadata": {},
   "outputs": [
    {
     "data": {
      "text/plain": [
       "array([[100, 200, 300],\n",
       "       [100, 200, 300]])"
      ]
     },
     "execution_count": 58,
     "metadata": {},
     "output_type": "execute_result"
    }
   ],
   "source": [
    "np.array([[100,200,300],[100,200,300]])"
   ]
  },
  {
   "cell_type": "code",
   "execution_count": 59,
   "id": "8c1a888b",
   "metadata": {},
   "outputs": [
    {
     "data": {
      "text/plain": [
       "array([[1, 2, 3],\n",
       "       [4, 5, 6],\n",
       "       [7, 8, 9]])"
      ]
     },
     "execution_count": 59,
     "metadata": {},
     "output_type": "execute_result"
    }
   ],
   "source": [
    "arr_2d = np.array(([1,2,3],[4,5,6],[7,8,9]))#Show\n",
    "arr_2d"
   ]
  },
  {
   "cell_type": "code",
   "execution_count": 60,
   "id": "8a2d661b",
   "metadata": {},
   "outputs": [
    {
     "data": {
      "text/plain": [
       "array([4, 5, 6])"
      ]
     },
     "execution_count": 60,
     "metadata": {},
     "output_type": "execute_result"
    }
   ],
   "source": [
    "#Indexing row\n",
    "arr_2d[1]\n"
   ]
  },
  {
   "cell_type": "code",
   "execution_count": 61,
   "id": "94f3144f",
   "metadata": {},
   "outputs": [
    {
     "data": {
      "text/plain": [
       "4"
      ]
     },
     "execution_count": 61,
     "metadata": {},
     "output_type": "execute_result"
    }
   ],
   "source": [
    "#Getting individual element value\n",
    "arr_2d[1][0]\n"
   ]
  },
  {
   "cell_type": "code",
   "execution_count": 62,
   "id": "02926ae0",
   "metadata": {},
   "outputs": [
    {
     "data": {
      "text/plain": [
       "4"
      ]
     },
     "execution_count": 62,
     "metadata": {},
     "output_type": "execute_result"
    }
   ],
   "source": [
    "#another way\n",
    "arr_2d[1,0]"
   ]
  },
  {
   "cell_type": "code",
   "execution_count": 71,
   "id": "96fed2c4",
   "metadata": {},
   "outputs": [
    {
     "data": {
      "text/plain": [
       "array([[2, 3],\n",
       "       [5, 6]])"
      ]
     },
     "execution_count": 71,
     "metadata": {},
     "output_type": "execute_result"
    }
   ],
   "source": [
    "arr_2d[:2, 1:]  # Correct slicing for the top right corner\n",
    "\n",
    "\n",
    "\n"
   ]
  },
  {
   "cell_type": "code",
   "execution_count": 70,
   "id": "345a37d3",
   "metadata": {},
   "outputs": [
    {
     "data": {
      "text/plain": [
       "array([7, 8, 9])"
      ]
     },
     "execution_count": 70,
     "metadata": {},
     "output_type": "execute_result"
    }
   ],
   "source": [
    "#Shape of the \n",
    "#bottom row\n",
    "arr_2d[2]\n"
   ]
  },
  {
   "cell_type": "code",
   "execution_count": 72,
   "id": "38b826a8",
   "metadata": {},
   "outputs": [
    {
     "data": {
      "text/plain": [
       "array([ 1,  2,  3,  4,  5,  6,  7,  8,  9, 10])"
      ]
     },
     "execution_count": 72,
     "metadata": {},
     "output_type": "execute_result"
    }
   ],
   "source": [
    "arr1 = np.arange(1,11)#show\n",
    "arr1"
   ]
  },
  {
   "cell_type": "code",
   "execution_count": 73,
   "id": "d3a2424b",
   "metadata": {},
   "outputs": [
    {
     "data": {
      "text/plain": [
       "array([False, False, False, False, False,  True,  True,  True,  True,\n",
       "        True])"
      ]
     },
     "execution_count": 73,
     "metadata": {},
     "output_type": "execute_result"
    }
   ],
   "source": [
    "arr1 > 5\n"
   ]
  },
  {
   "cell_type": "code",
   "execution_count": 74,
   "id": "61034d2f",
   "metadata": {},
   "outputs": [
    {
     "data": {
      "text/plain": [
       "array([False, False, False, False, False,  True,  True,  True,  True,\n",
       "        True])"
      ]
     },
     "execution_count": 74,
     "metadata": {},
     "output_type": "execute_result"
    }
   ],
   "source": [
    "bool_arr = arr1 > 5#show\n",
    "bool_arr"
   ]
  },
  {
   "cell_type": "code",
   "execution_count": 75,
   "id": "e8a71050",
   "metadata": {},
   "outputs": [
    {
     "data": {
      "text/plain": [
       "array([ 6,  7,  8,  9, 10])"
      ]
     },
     "execution_count": 75,
     "metadata": {},
     "output_type": "execute_result"
    }
   ],
   "source": [
    "arr1[bool_arr]\n"
   ]
  },
  {
   "cell_type": "code",
   "execution_count": 76,
   "id": "32c74f21",
   "metadata": {},
   "outputs": [
    {
     "data": {
      "text/plain": [
       "array([ 3,  4,  5,  6,  7,  8,  9, 10])"
      ]
     },
     "execution_count": 76,
     "metadata": {},
     "output_type": "execute_result"
    }
   ],
   "source": [
    "arr1[arr1 > 2]\n"
   ]
  },
  {
   "cell_type": "code",
   "execution_count": 78,
   "id": "36abf456",
   "metadata": {},
   "outputs": [
    {
     "data": {
      "text/plain": [
       "array([ 0,  2,  4,  6,  8, 10, 12, 14, 16, 18])"
      ]
     },
     "execution_count": 78,
     "metadata": {},
     "output_type": "execute_result"
    }
   ],
   "source": [
    "arr2 = np.arange(0,10)\n",
    "arr2 + arr2\n"
   ]
  },
  {
   "cell_type": "code",
   "execution_count": 79,
   "id": "b1124f2b",
   "metadata": {},
   "outputs": [
    {
     "data": {
      "text/plain": [
       "array([ 0,  1,  4,  9, 16, 25, 36, 49, 64, 81])"
      ]
     },
     "execution_count": 79,
     "metadata": {},
     "output_type": "execute_result"
    }
   ],
   "source": [
    "arr2 * arr2\n"
   ]
  },
  {
   "cell_type": "code",
   "execution_count": 80,
   "id": "12721b7a",
   "metadata": {},
   "outputs": [
    {
     "data": {
      "text/plain": [
       "array([0, 0, 0, 0, 0, 0, 0, 0, 0, 0])"
      ]
     },
     "execution_count": 80,
     "metadata": {},
     "output_type": "execute_result"
    }
   ],
   "source": [
    "arr2 - arr2\n"
   ]
  },
  {
   "cell_type": "code",
   "execution_count": 81,
   "id": "396c14cf",
   "metadata": {},
   "outputs": [
    {
     "name": "stderr",
     "output_type": "stream",
     "text": [
      "C:\\Users\\hp\\AppData\\Local\\Temp\\ipykernel_9100\\3151952473.py:1: RuntimeWarning: invalid value encountered in divide\n",
      "  arr2 / arr2\n"
     ]
    },
    {
     "data": {
      "text/plain": [
       "array([nan,  1.,  1.,  1.,  1.,  1.,  1.,  1.,  1.,  1.])"
      ]
     },
     "execution_count": 81,
     "metadata": {},
     "output_type": "execute_result"
    }
   ],
   "source": [
    "arr2 / arr2\n"
   ]
  },
  {
   "cell_type": "code",
   "execution_count": 82,
   "id": "e2307021",
   "metadata": {},
   "outputs": [
    {
     "name": "stderr",
     "output_type": "stream",
     "text": [
      "C:\\Users\\hp\\AppData\\Local\\Temp\\ipykernel_9100\\1481894037.py:1: RuntimeWarning: divide by zero encountered in divide\n",
      "  1 / arr2\n"
     ]
    },
    {
     "data": {
      "text/plain": [
       "array([       inf, 1.        , 0.5       , 0.33333333, 0.25      ,\n",
       "       0.2       , 0.16666667, 0.14285714, 0.125     , 0.11111111])"
      ]
     },
     "execution_count": 82,
     "metadata": {},
     "output_type": "execute_result"
    }
   ],
   "source": [
    "1 / arr2\n"
   ]
  },
  {
   "cell_type": "code",
   "execution_count": 83,
   "id": "b84ccc6a",
   "metadata": {},
   "outputs": [
    {
     "data": {
      "text/plain": [
       "array([  0,   1,   8,  27,  64, 125, 216, 343, 512, 729], dtype=int32)"
      ]
     },
     "execution_count": 83,
     "metadata": {},
     "output_type": "execute_result"
    }
   ],
   "source": [
    "arr2 ** 3\n"
   ]
  },
  {
   "cell_type": "code",
   "execution_count": 84,
   "id": "c66e6dcf",
   "metadata": {},
   "outputs": [
    {
     "data": {
      "text/plain": [
       "array([0.        , 1.        , 1.41421356, 1.73205081, 2.        ,\n",
       "       2.23606798, 2.44948974, 2.64575131, 2.82842712, 3.        ])"
      ]
     },
     "execution_count": 84,
     "metadata": {},
     "output_type": "execute_result"
    }
   ],
   "source": [
    "np.sqrt(arr2)\n"
   ]
  },
  {
   "cell_type": "code",
   "execution_count": 85,
   "id": "f3b1b064",
   "metadata": {},
   "outputs": [
    {
     "data": {
      "text/plain": [
       "array([1.00000000e+00, 2.71828183e+00, 7.38905610e+00, 2.00855369e+01,\n",
       "       5.45981500e+01, 1.48413159e+02, 4.03428793e+02, 1.09663316e+03,\n",
       "       2.98095799e+03, 8.10308393e+03])"
      ]
     },
     "execution_count": 85,
     "metadata": {},
     "output_type": "execute_result"
    }
   ],
   "source": [
    "np.exp(arr2)\n"
   ]
  },
  {
   "cell_type": "code",
   "execution_count": 86,
   "id": "96e6727e",
   "metadata": {},
   "outputs": [
    {
     "data": {
      "text/plain": [
       "9"
      ]
     },
     "execution_count": 86,
     "metadata": {},
     "output_type": "execute_result"
    }
   ],
   "source": [
    "np.max(arr2)\n"
   ]
  },
  {
   "cell_type": "code",
   "execution_count": 87,
   "id": "5f6d7e6c",
   "metadata": {},
   "outputs": [
    {
     "data": {
      "text/plain": [
       "array([ 0.        ,  0.84147098,  0.90929743,  0.14112001, -0.7568025 ,\n",
       "       -0.95892427, -0.2794155 ,  0.6569866 ,  0.98935825,  0.41211849])"
      ]
     },
     "execution_count": 87,
     "metadata": {},
     "output_type": "execute_result"
    }
   ],
   "source": [
    "np.sin(arr2)\n"
   ]
  },
  {
   "cell_type": "code",
   "execution_count": 88,
   "id": "0f5a4a07",
   "metadata": {},
   "outputs": [
    {
     "name": "stderr",
     "output_type": "stream",
     "text": [
      "C:\\Users\\hp\\AppData\\Local\\Temp\\ipykernel_9100\\3827996858.py:1: RuntimeWarning: divide by zero encountered in log\n",
      "  np.log(arr2)\n"
     ]
    },
    {
     "data": {
      "text/plain": [
       "array([      -inf, 0.        , 0.69314718, 1.09861229, 1.38629436,\n",
       "       1.60943791, 1.79175947, 1.94591015, 2.07944154, 2.19722458])"
      ]
     },
     "execution_count": 88,
     "metadata": {},
     "output_type": "execute_result"
    }
   ],
   "source": [
    "np.log(arr2)\n"
   ]
  },
  {
   "cell_type": "code",
   "execution_count": 90,
   "id": "64619faf",
   "metadata": {},
   "outputs": [
    {
     "name": "stdout",
     "output_type": "stream",
     "text": [
      "Time taken in vectorized version: 199.8136043548584 ms\n"
     ]
    }
   ],
   "source": [
    "import time\n",
    "import numpy as np\n",
    "\n",
    "a = np.random.rand(1000000)\n",
    "b = np.random.rand(1000000)\n",
    "\n",
    "tic = time.time()\n",
    "c = np.dot(a, b)  # dot product of two vectors\n",
    "toc = time.time()\n",
    "\n",
    "print(\"Time taken in vectorized version: \" + str(1000 * (toc - tic)) + \" ms\")  # Corrected string formatting\n"
   ]
  },
  {
   "cell_type": "code",
   "execution_count": 92,
   "id": "fde19e51",
   "metadata": {},
   "outputs": [
    {
     "name": "stdout",
     "output_type": "stream",
     "text": [
      "Time taken in for loop version: 690.1640892028809 ms\n"
     ]
    }
   ],
   "source": [
    "c = 0\n",
    "tic = time.time()\n",
    "for i in range(1000000):\n",
    "    c += a[i] * b[i]\n",
    "toc = time.time()\n",
    "print(\"Time taken in for loop version: \" + str(1000 * (toc - tic)) + \" ms\")  # Corrected string formatting\n"
   ]
  },
  {
   "cell_type": "code",
   "execution_count": null,
   "id": "87e25e38",
   "metadata": {},
   "outputs": [],
   "source": []
  }
 ],
 "metadata": {
  "kernelspec": {
   "display_name": "Python 3 (ipykernel)",
   "language": "python",
   "name": "python3"
  },
  "language_info": {
   "codemirror_mode": {
    "name": "ipython",
    "version": 3
   },
   "file_extension": ".py",
   "mimetype": "text/x-python",
   "name": "python",
   "nbconvert_exporter": "python",
   "pygments_lexer": "ipython3",
   "version": "3.11.5"
  }
 },
 "nbformat": 4,
 "nbformat_minor": 5
}
